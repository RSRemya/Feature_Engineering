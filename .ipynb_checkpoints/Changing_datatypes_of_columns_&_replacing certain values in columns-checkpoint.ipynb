{
 "cells": [
  {
   "cell_type": "code",
   "execution_count": 10,
   "id": "40826f87",
   "metadata": {},
   "outputs": [
    {
     "data": {
      "text/html": [
       "<div>\n",
       "<style scoped>\n",
       "    .dataframe tbody tr th:only-of-type {\n",
       "        vertical-align: middle;\n",
       "    }\n",
       "\n",
       "    .dataframe tbody tr th {\n",
       "        vertical-align: top;\n",
       "    }\n",
       "\n",
       "    .dataframe thead th {\n",
       "        text-align: right;\n",
       "    }\n",
       "</style>\n",
       "<table border=\"1\" class=\"dataframe\">\n",
       "  <thead>\n",
       "    <tr style=\"text-align: right;\">\n",
       "      <th></th>\n",
       "      <th>App</th>\n",
       "      <th>Rating</th>\n",
       "      <th>Reviews</th>\n",
       "      <th>Price</th>\n",
       "    </tr>\n",
       "  </thead>\n",
       "  <tbody>\n",
       "    <tr>\n",
       "      <th>0</th>\n",
       "      <td>Photo Editor &amp; Candy Camera &amp; Grid &amp; ScrapBook</td>\n",
       "      <td>4.1</td>\n",
       "      <td>159</td>\n",
       "      <td>0</td>\n",
       "    </tr>\n",
       "    <tr>\n",
       "      <th>1</th>\n",
       "      <td>Coloring book moana</td>\n",
       "      <td>3.9</td>\n",
       "      <td>967</td>\n",
       "      <td>0</td>\n",
       "    </tr>\n",
       "    <tr>\n",
       "      <th>2</th>\n",
       "      <td>U Launcher Lite – FREE Live Cool Themes, Hide ...</td>\n",
       "      <td>4.7</td>\n",
       "      <td>87510</td>\n",
       "      <td>0</td>\n",
       "    </tr>\n",
       "    <tr>\n",
       "      <th>3</th>\n",
       "      <td>Sketch - Draw &amp; Paint</td>\n",
       "      <td>4.5</td>\n",
       "      <td>215644</td>\n",
       "      <td>0</td>\n",
       "    </tr>\n",
       "    <tr>\n",
       "      <th>4</th>\n",
       "      <td>Pixel Draw - Number Art Coloring Book</td>\n",
       "      <td>4.3</td>\n",
       "      <td>967</td>\n",
       "      <td>0</td>\n",
       "    </tr>\n",
       "  </tbody>\n",
       "</table>\n",
       "</div>"
      ],
      "text/plain": [
       "                                                 App  Rating  Reviews Price\n",
       "0     Photo Editor & Candy Camera & Grid & ScrapBook     4.1      159     0\n",
       "1                                Coloring book moana     3.9      967     0\n",
       "2  U Launcher Lite – FREE Live Cool Themes, Hide ...     4.7    87510     0\n",
       "3                              Sketch - Draw & Paint     4.5   215644     0\n",
       "4              Pixel Draw - Number Art Coloring Book     4.3      967     0"
      ]
     },
     "execution_count": 10,
     "metadata": {},
     "output_type": "execute_result"
    }
   ],
   "source": [
    "import pandas as pd\n",
    "data = pd.read_csv(\"apps.csv\")\n",
    "data.head()"
   ]
  },
  {
   "cell_type": "code",
   "execution_count": 11,
   "id": "6c164cf8",
   "metadata": {},
   "outputs": [
    {
     "data": {
      "text/plain": [
       "App         object\n",
       "Rating     float64\n",
       "Reviews      int64\n",
       "Price       object\n",
       "dtype: object"
      ]
     },
     "execution_count": 11,
     "metadata": {},
     "output_type": "execute_result"
    }
   ],
   "source": [
    "data.dtypes"
   ]
  },
  {
   "cell_type": "code",
   "execution_count": 12,
   "id": "b22d0244",
   "metadata": {},
   "outputs": [
    {
     "data": {
      "text/plain": [
       "array(['0', '$4.99', '$6.99', '$7.99', '$3.99', '$5.99', '$2.99', '$1.99',\n",
       "       '$9.99', '$0.99', '$9.00', '$5.49', '$10.00', '$24.99', '$11.99',\n",
       "       '$79.99', '$16.99', '$14.99', '$29.99', '$12.99', '$3.49',\n",
       "       '$10.99', '$7.49', '$1.50', '$19.99', '$15.99', '$33.99', '$39.99',\n",
       "       '$2.49', '$4.49', '$1.70', '$1.49', '$3.88', '$399.99', '$17.99',\n",
       "       '$400.00', '$3.02', '$1.76', '$4.84', '$4.77', '$1.61', '$1.59',\n",
       "       '$6.49', '$1.29', '$299.99', '$379.99', '$37.99', '$18.99',\n",
       "       '$389.99', '$8.49', '$1.75', '$14.00', '$2.00', '$3.08', '$2.59',\n",
       "       '$19.40', '$15.46', '$8.99', '$3.04', '$13.99', '$4.29', '$3.28',\n",
       "       '$4.60', '$1.00', '$2.90', '$1.97', '$2.56', '$1.20'], dtype=object)"
      ]
     },
     "execution_count": 12,
     "metadata": {},
     "output_type": "execute_result"
    }
   ],
   "source": [
    "data['Price'].unique()"
   ]
  },
  {
   "cell_type": "code",
   "execution_count": 16,
   "id": "70315db8",
   "metadata": {},
   "outputs": [
    {
     "name": "stderr",
     "output_type": "stream",
     "text": [
      "C:\\Users\\HP\\AppData\\Local\\Temp\\ipykernel_7788\\2159348094.py:1: FutureWarning: The default value of regex will change from True to False in a future version. In addition, single character regular expressions will *not* be treated as literal strings when regex=True.\n",
      "  data['Price'] = data['Price'].str.replace('$','')\n"
     ]
    },
    {
     "data": {
      "text/plain": [
       "array(['0', '4.99', '6.99', '7.99', '3.99', '5.99', '2.99', '1.99',\n",
       "       '9.99', '0.99', '9.00', '5.49', '10.00', '24.99', '11.99', '79.99',\n",
       "       '16.99', '14.99', '29.99', '12.99', '3.49', '10.99', '7.49',\n",
       "       '1.50', '19.99', '15.99', '33.99', '39.99', '2.49', '4.49', '1.70',\n",
       "       '1.49', '3.88', '399.99', '17.99', '400.00', '3.02', '1.76',\n",
       "       '4.84', '4.77', '1.61', '1.59', '6.49', '1.29', '299.99', '379.99',\n",
       "       '37.99', '18.99', '389.99', '8.49', '1.75', '14.00', '2.00',\n",
       "       '3.08', '2.59', '19.40', '15.46', '8.99', '3.04', '13.99', '4.29',\n",
       "       '3.28', '4.60', '1.00', '2.90', '1.97', '2.56', '1.20'],\n",
       "      dtype=object)"
      ]
     },
     "execution_count": 16,
     "metadata": {},
     "output_type": "execute_result"
    }
   ],
   "source": [
    "data['Price'] = data['Price'].str.replace('$','')\n",
    "data['Price'].unique()"
   ]
  },
  {
   "cell_type": "code",
   "execution_count": 19,
   "id": "e161d917",
   "metadata": {},
   "outputs": [
    {
     "data": {
      "text/plain": [
       "App         object\n",
       "Rating     float64\n",
       "Reviews      int64\n",
       "Price      float64\n",
       "dtype: object"
      ]
     },
     "execution_count": 19,
     "metadata": {},
     "output_type": "execute_result"
    }
   ],
   "source": [
    "data['Price'] = data['Price'].astype(\"float\")\n",
    "data.dtypes"
   ]
  },
  {
   "cell_type": "code",
   "execution_count": null,
   "id": "b233ed85",
   "metadata": {},
   "outputs": [],
   "source": []
  }
 ],
 "metadata": {
  "kernelspec": {
   "display_name": "Python 3 (ipykernel)",
   "language": "python",
   "name": "python3"
  },
  "language_info": {
   "codemirror_mode": {
    "name": "ipython",
    "version": 3
   },
   "file_extension": ".py",
   "mimetype": "text/x-python",
   "name": "python",
   "nbconvert_exporter": "python",
   "pygments_lexer": "ipython3",
   "version": "3.9.13"
  }
 },
 "nbformat": 4,
 "nbformat_minor": 5
}
